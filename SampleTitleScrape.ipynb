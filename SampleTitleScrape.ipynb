{
 "cells": [
  {
   "cell_type": "code",
   "execution_count": 3,
   "metadata": {},
   "outputs": [],
   "source": [
    "import requests\n",
    "from bs4 import BeautifulSoup\n",
    "import pandas as pd\n",
    "import os\n",
    "\n",
    "# Make a request to the website\n",
    "url = \"https://www.todayonline.com/\"\n",
    "response = requests.get(url)\n",
    "\n",
    "# Create a BeautifulSoup object\n",
    "soup = BeautifulSoup(response.content, \"html.parser\")\n",
    "\n",
    "# Find all the title elements\n",
    "titles = soup.find_all(\"h4\")\n",
    "\n",
    "# Extract the text from the title elements\n",
    "title_texts = [title.get_text() for title in titles]\n",
    "\n",
    "# Create a DataFrame with the titles\n",
    "df = pd.DataFrame({\"TODAY Online\": title_texts})\n",
    "\n",
    "# Save the DataFrame to an Excel file\n",
    "df.to_excel(\"Today_titles2.xlsx\", index=False)\n",
    "\n",
    "import os\n",
    "import time\n",
    "\n",
    "timestamp = time.strftime('%H%M-%Y%m%d')\n",
    "os.rename('Today_titles2.xlsx', 'Today_titles2_%s.xlsx' % (timestamp))"
   ]
  }
 ],
 "metadata": {
  "kernelspec": {
   "display_name": "Python 3",
   "language": "python",
   "name": "python3"
  },
  "language_info": {
   "codemirror_mode": {
    "name": "ipython",
    "version": 3
   },
   "file_extension": ".py",
   "mimetype": "text/x-python",
   "name": "python",
   "nbconvert_exporter": "python",
   "pygments_lexer": "ipython3",
   "version": "3.11.4"
  },
  "orig_nbformat": 4
 },
 "nbformat": 4,
 "nbformat_minor": 2
}
