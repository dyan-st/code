{
 "cells": [
  {
   "cell_type": "code",
   "execution_count": 4,
   "metadata": {},
   "outputs": [],
   "source": [
    "# importing the required modules\n",
    "import glob\n",
    "import pandas as pd\n",
    "\n",
    "# specifying the path to csv files, use // and not \\ for hardcoding filepath eg \"C://Screenshot Code//1AugData\"\n",
    "path = \"C://Screenshot Code//1AugData\"\n",
    "\n",
    "# csv files in the path\n",
    "files = glob.glob(path + \"/*.xlsx\")\n",
    "\n",
    "# defining an empty list to store\n",
    "# content\n",
    "data_frame = pd.DataFrame()\n",
    "content = []\n",
    "#contentDF=pd.DataFrame()\n",
    "RCDict = {}\n",
    "\n",
    "# checking all the csv files in the\n",
    "# specified path\n",
    "for filename in files:\n",
    "\t\n",
    "\t# reading content of csv file\n",
    "\t# content.append(filename)\n",
    "\tdf = pd.read_excel(filename, sheet_name='Sheet1')\n",
    "\t#print(df)\n",
    "\trows=(len(df))\n",
    "\tcols=(len(df.columns))\n",
    "\t#adds new pair to dictionary\n",
    "\tRCDict.update({filename:[rows,cols]})\n",
    "\t\n",
    "\n",
    "# converting content to data frame, transpose and clean headers\n",
    "RCDictDF = pd.DataFrame.from_dict(RCDict)\n",
    "RCDictDF_transposed = RCDictDF.T\n",
    "RCDictDF_transposed.columns = ['Rows', 'Cols']\n",
    "\n",
    "# print results in console and export to excel (excel preferred)\n",
    "RCDictDF_transposed.to_excel(r'format_checker.xlsx')\n",
    "print (RCDictDF_transposed)\n"
   ]
  }
 ],
 "metadata": {
  "kernelspec": {
   "display_name": "Python 3",
   "language": "python",
   "name": "python3"
  },
  "language_info": {
   "codemirror_mode": {
    "name": "ipython",
    "version": 3
   },
   "file_extension": ".py",
   "mimetype": "text/x-python",
   "name": "python",
   "nbconvert_exporter": "python",
   "pygments_lexer": "ipython3",
   "version": "3.11.4"
  },
  "orig_nbformat": 4
 },
 "nbformat": 4,
 "nbformat_minor": 2
}
